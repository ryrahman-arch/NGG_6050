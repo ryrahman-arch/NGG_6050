{
  "nbformat": 4,
  "nbformat_minor": 0,
  "metadata": {
    "colab": {
      "provenance": [],
      "authorship_tag": "ABX9TyOqw+yZMI5KXKM4x++suNlf",
      "include_colab_link": true
    },
    "kernelspec": {
      "name": "python3",
      "display_name": "Python 3"
    },
    "language_info": {
      "name": "python"
    }
  },
  "cells": [
    {
      "cell_type": "markdown",
      "metadata": {
        "id": "view-in-github",
        "colab_type": "text"
      },
      "source": [
        "<a href=\"https://colab.research.google.com/github/ryrahman-arch/NGG_6050/blob/main/Non_parametrics.ipynb\" target=\"_parent\"><img src=\"https://colab.research.google.com/assets/colab-badge.svg\" alt=\"Open In Colab\"/></a>"
      ]
    },
    {
      "cell_type": "code",
      "source": [
        "import numpy as np\n",
        "import scipy.stats as st\n",
        "from statsmodels.stats.descriptivestats import sign_test\n",
        "from scipy import stats\n",
        "import matplotlib.pyplot as plt"
      ],
      "metadata": {
        "id": "xcXR1cZOoTtv"
      },
      "execution_count": 2,
      "outputs": []
    },
    {
      "cell_type": "code",
      "execution_count": 28,
      "metadata": {
        "id": "upZs3hetmBnS",
        "colab": {
          "base_uri": "https://localhost:8080/"
        },
        "outputId": "835e619c-84c3-432a-a3f3-09ec07b7b720"
      },
      "outputs": [
        {
          "output_type": "stream",
          "name": "stdout",
          "text": [
            "p-value: 0.28687985999912624\n"
          ]
        }
      ],
      "source": [
        "# Scenario 1: You are a behavioral geologist measuring the reaction time\n",
        "# of rocks in response to a tone. Specifically, you want to compare the\n",
        "# median reaction time of geodes, to that of limestone. You recruit 20\n",
        "# rocks per group, and run your reaction-time experiment. What test would\n",
        "# you use to compare median reaction times between geodes and limestone, and why?\n",
        "\n",
        "# Define necessary variables\n",
        "geode_sample_size = 20\n",
        "limestone_sample_size = 20\n",
        "geode_reactions = np.random.randint(1, 10, geode_sample_size) # Assuming the reaction time is 1-10ms idk\n",
        "limestone_reactions = np.random.randint(1, 10, limestone_sample_size)\n",
        "\n",
        "# Run stats test\n",
        "_,p = stats.mannwhitneyu(geode_reactions, limestone_reactions, alternative='two-sided') # Mann-whitney because comparing two unpaired sample medians\n",
        "print(f\"p-value: {p}\")"
      ]
    },
    {
      "cell_type": "code",
      "source": [
        "# Scenario 2: You are a brilliant scientist working at a biotech firm developing\n",
        "# a vaccine that reverses aging. Wow! To test the efficacy of the vaccine, you\n",
        "# recruit 50 people, give them a course of your vaccine, and measure their age\n",
        "# with a (very) special scale before and after treatment. You want to start by\n",
        "# refuting the simple null hypothesis? that the participants' measured ages are\n",
        "# not changed by the treatment. What test do you use and why?\n",
        "\n",
        "# Define necessary variables\n",
        "sample_ages = np.random.randint(50, 100, 50)\n",
        "null_hypothesis_median = np.median(sample_ages)\n",
        "\n",
        "# Run stats test\n",
        "_,p = stats.wilcoxon(sample_ages-null_hypothesis_median) #wilcoxon comparing to null hypothesis\n",
        "print(f\"p-value: {p}\")\n"
      ],
      "metadata": {
        "colab": {
          "base_uri": "https://localhost:8080/"
        },
        "id": "qeVgrBgytJtr",
        "outputId": "981b1410-1ac2-446a-b189-524864ca3b90"
      },
      "execution_count": 59,
      "outputs": [
        {
          "output_type": "stream",
          "name": "stdout",
          "text": [
            "p-value: 0.3941076025075949\n"
          ]
        }
      ]
    },
    {
      "cell_type": "code",
      "source": [
        "# Scenario 3: You are a neuroeconomist and believe you have developed a wearable\n",
        "# device that can change consumer preferences about a given product. To test\n",
        "# your device, you present product X to a group of 40 individuals, and ask them\n",
        "# to fill out a survery assessing how much they like the product (larger score\n",
        "# means they like it more). Then, you have the individuals wear the device,\n",
        "# present product X, and assess how much they like of the product. You want to\n",
        "# know if the device reliably increases, decreases, or does not affect their\n",
        "# liking of product X. What test would you use and why? What result would\n",
        "# indicate that their liking has increased?\n",
        "\n",
        "# Define necessary variables\n",
        "sample_size = 40\n",
        "unexposed_product_scores = np.random.randint(1, 10, sample_size)\n",
        "exposed_product_scores = np.random.randint(1, 10, sample_size)\n",
        "\n",
        "# Run stats test: chose the sign test to see if the device changes product score\n",
        "# after exposure\n",
        "diff = [exposed_product_scoresi-unexposed_product_scoresi for unexposed_product_scoresi, exposed_product_scoresi in zip(unexposed_product_scores,exposed_product_scores)]\n",
        "_, p = sign_test(diff)\n",
        "print(f'p={p:.2f}')"
      ],
      "metadata": {
        "colab": {
          "base_uri": "https://localhost:8080/"
        },
        "id": "u5skDlmIu0xL",
        "outputId": "6c7e10de-231c-4560-87cf-cd72fa5ce3a4"
      },
      "execution_count": 90,
      "outputs": [
        {
          "output_type": "stream",
          "name": "stdout",
          "text": [
            "p=0.87\n"
          ]
        }
      ]
    }
  ]
}